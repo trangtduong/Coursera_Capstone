{
 "metadata": {
  "language_info": {
   "codemirror_mode": {
    "name": "ipython",
    "version": 3
   },
   "file_extension": ".py",
   "mimetype": "text/x-python",
   "name": "python",
   "nbconvert_exporter": "python",
   "pygments_lexer": "ipython3",
   "version": "3.8.5"
  },
  "orig_nbformat": 2,
  "kernelspec": {
   "name": "python385jvsc74a57bd053d769422aa81e000924c1cdead8aa1b8d790c775e85b7178f91cbdf9a124575",
   "display_name": "Python 3.8.5 64-bit ('base': conda)"
  }
 },
 "nbformat": 4,
 "nbformat_minor": 2,
 "cells": [
  {
   "source": [
    "# Segmenting and Clustering Neighborhoods in Toronto\n",
    "\n",
    "# Part 1. Data Scraping\n",
    "\n",
    "TODOS:\n",
    "\n",
    "* The dataframe will consist of three columns: PostalCode, Borough, and Neighborhood\n",
    "\n",
    "* Only process the cells that have an assigned borough. Ignore cells with a borough that is Not assigned.\n",
    "\n",
    "* More than one neighborhood can exist in one postal code area. For example, in the table on the Wikipedia page, you will notice that M5A is listed twice and has two neighborhoods: Harbourfront and Regent Park. These two rows will be combined into one row with the neighborhoods separated with a comma as shown in row 11  in the above table.\n",
    "\n",
    "* If a cell has a borough but a Not assigned  neighborhood, then the neighborhood will be the same as the borough.\n",
    "\n",
    "Clean your Notebook and add Markdown cells to explain your work and any assumptions you are making.\n",
    "In the last cell of your notebook, use the .shape method to print the number of rows of your dataframe.\n"
   ],
   "cell_type": "markdown",
   "metadata": {}
  },
  {
   "cell_type": "code",
   "execution_count": 1,
   "metadata": {},
   "outputs": [],
   "source": [
    "import pandas as pd"
   ]
  },
  {
   "source": [
    "## 1. Data extraction\n",
    "\n",
    "We will extract tables from this [Wikipedia Page](https://en.wikipedia.org/wiki/List_of_postal_codes_of_Canada:_M 'List_of_postal_codes_of_Canada').\n",
    "\n",
    "This pages contains list of postal codes of Canada where the first letter is M. Postal codes beginning with M are located within the city of Toronto in the province of Ontario. \n",
    "Let's take a look at first few rows and columns of tables scraped from that URL and identify our targeted table."
   ],
   "cell_type": "markdown",
   "metadata": {}
  },
  {
   "cell_type": "code",
   "execution_count": 2,
   "metadata": {},
   "outputs": [
    {
     "output_type": "stream",
     "name": "stdout",
     "text": [
      "\nRead HTML tables in Wikipedia URL : \n▋▋▋▋▋▋▋▋▋▋▋▋▋▋▋▋▋▋▋▋▋▋▋▋▋▋▋▋▋▋▋▋▋▋▋▋▋▋▋▋▋▋▋▋▋▋▋▋▋▋▋▋▋▋▋▋▋▋▋▋▋▋▋▋▋▋▋▋▋▋▋▋▋▋▋▋▋▋▋▋\n\nNumber of tables: 3\n\nFirst row of Table 0:\n                 0                1                         2\n0  M1ANot assigned  M2ANot assigned  M3ANorth York(Parkwoods)\n\nFirst row of Table 1:\n     0                      1    2\n0  NaN  Canadian postal codes  NaN\n\nFirst row of Table 2:\n    0   1   2\n0  NL  NS  PE\n\n"
     ]
    }
   ],
   "source": [
    "url = 'https://en.wikipedia.org/wiki/List_of_postal_codes_of_Canada:_M'\n",
    "tables = pd.read_html(url)\n",
    "print(f'\\nRead HTML tables in Wikipedia URL : \\n{\"▋\"*80}')\n",
    "# Number of tables in tables\n",
    "print(f'\\nNumber of tables: {len(tables)}\\n')\n",
    "# Find targeted table by printing few rows and columns\n",
    "for i, table in enumerate(tables): \n",
    "    print(f'First row of Table {i}:')\n",
    "    print(f'{table.iloc[:1,:3]}')\n",
    "    print()"
   ]
  },
  {
   "source": [
    "## 2. Data cleansing\n",
    "\n",
    "The Table 0 contains our targeted data. Each cell of this table contain the following information:\n",
    "\n",
    "1. Postal code: the first three characters are postal code, corresponding to the Forward Sortation Area.\n",
    "\n",
    "2. Borough: Name of borough. Some postal code have not been assigned to any borough. In such case, it is coded as 'Not assigned' \n",
    "\n",
    "3. Neighborhood: Names of neighborhood is inside parentheses (i.e. round brackets), append to name of borough\n",
    "\n",
    "### Create the DataFrame `df`\n",
    "First, we will create a DataFrame and split each cell of Table 0 into 3 part: PostalCode, Borough, and Neighborhood and remove rows that contains postal code that is not assigned to any borough/neighborhood."
   ],
   "cell_type": "markdown",
   "metadata": {}
  },
  {
   "cell_type": "code",
   "execution_count": 3,
   "metadata": {},
   "outputs": [
    {
     "output_type": "execute_result",
     "data": {
      "text/plain": [
       "  PostalCode      Borough                               Neighborhood\n",
       "0        M1B  Scarborough                           Malvern / Rouge)\n",
       "1        M1C  Scarborough  Rouge Hill / Port Union / Highland Creek)\n",
       "2        M1E  Scarborough       Guildwood / Morningside / West Hill)\n",
       "3        M1G  Scarborough                                    Woburn)\n",
       "4        M1H  Scarborough                                 Cedarbrae)"
      ],
      "text/html": "<div>\n<style scoped>\n    .dataframe tbody tr th:only-of-type {\n        vertical-align: middle;\n    }\n\n    .dataframe tbody tr th {\n        vertical-align: top;\n    }\n\n    .dataframe thead th {\n        text-align: right;\n    }\n</style>\n<table border=\"1\" class=\"dataframe\">\n  <thead>\n    <tr style=\"text-align: right;\">\n      <th></th>\n      <th>PostalCode</th>\n      <th>Borough</th>\n      <th>Neighborhood</th>\n    </tr>\n  </thead>\n  <tbody>\n    <tr>\n      <th>0</th>\n      <td>M1B</td>\n      <td>Scarborough</td>\n      <td>Malvern / Rouge)</td>\n    </tr>\n    <tr>\n      <th>1</th>\n      <td>M1C</td>\n      <td>Scarborough</td>\n      <td>Rouge Hill / Port Union / Highland Creek)</td>\n    </tr>\n    <tr>\n      <th>2</th>\n      <td>M1E</td>\n      <td>Scarborough</td>\n      <td>Guildwood / Morningside / West Hill)</td>\n    </tr>\n    <tr>\n      <th>3</th>\n      <td>M1G</td>\n      <td>Scarborough</td>\n      <td>Woburn)</td>\n    </tr>\n    <tr>\n      <th>4</th>\n      <td>M1H</td>\n      <td>Scarborough</td>\n      <td>Cedarbrae)</td>\n    </tr>\n  </tbody>\n</table>\n</div>"
     },
     "metadata": {},
     "execution_count": 3
    }
   ],
   "source": [
    "df = tables[0].to_numpy().transpose().flatten() # select table with index 0 and flatten to a np array\n",
    "df = pd.DataFrame(df, columns=['data']).data.str.extract(r'(.{3})(.*?)\\((.*)')\n",
    "df.columns = ['PostalCode', 'Borough', 'Neighborhood']\n",
    "df.dropna(subset = ['Borough'] ,inplace = True) # Remove 'Not Asigned' row\n",
    "df.reset_index(drop = True, inplace = True)\n",
    "df.head()\n"
   ]
  },
  {
   "source": [
    "### Let's verify that postal code is in correct format: \n",
    "\n",
    "The postal code in Toronto must begin with letter 'M', following by a number and one leter from A to Z."
   ],
   "cell_type": "markdown",
   "metadata": {}
  },
  {
   "cell_type": "code",
   "execution_count": 4,
   "metadata": {},
   "outputs": [
    {
     "output_type": "execute_result",
     "data": {
      "text/plain": [
       "0"
      ]
     },
     "metadata": {},
     "execution_count": 4
    }
   ],
   "source": [
    "# Verify that Postal Code is in correct format\n",
    "sum(1-df.PostalCode.str.match(r'M\\d[A-Z]')) # return number of mismatch"
   ]
  },
  {
   "source": [
    "### Let's see the unique values of Borough name in column `Borough` and recode if necessary"
   ],
   "cell_type": "markdown",
   "metadata": {}
  },
  {
   "cell_type": "code",
   "execution_count": 5,
   "metadata": {},
   "outputs": [
    {
     "output_type": "execute_result",
     "data": {
      "text/plain": [
       "array(['Scarborough', 'North York', 'East York', 'East Toronto',\n",
       "       'East YorkEast Toronto', 'Central Toronto', 'Downtown Toronto',\n",
       "       'Downtown TorontoStn A PO Boxes25 The Esplanade', 'York',\n",
       "       'West Toronto', \"Queen's Park\",\n",
       "       'MississaugaCanada Post Gateway Processing Centre',\n",
       "       'East TorontoBusiness reply mail Processing Centre969 Eastern',\n",
       "       'Etobicoke', 'EtobicokeNorthwest'], dtype=object)"
      ]
     },
     "metadata": {},
     "execution_count": 5
    }
   ],
   "source": [
    "# Borough columns\n",
    "df.Borough.unique()"
   ]
  },
  {
   "cell_type": "code",
   "execution_count": 6,
   "metadata": {},
   "outputs": [
    {
     "output_type": "execute_result",
     "data": {
      "text/plain": [
       "array(['Scarborough', 'North York', 'East York', 'East Toronto',\n",
       "       'East York/East Toronto', 'Central Toronto', 'Downtown Toronto',\n",
       "       'Downtown Toronto Stn A', 'York', 'West Toronto', \"Queen's Park\",\n",
       "       'Mississauga', 'East Toronto Business', 'Etobicoke',\n",
       "       'Etobicoke Northwest'], dtype=object)"
      ]
     },
     "metadata": {},
     "execution_count": 6
    }
   ],
   "source": [
    "df['Borough'] = df['Borough'].replace({\n",
    "    'Downtown TorontoStn A PO Boxes25 The Esplanade':'Downtown Toronto Stn A',\n",
    "    'East TorontoBusiness reply mail Processing Centre969 Eastern':'East Toronto Business',\n",
    "    'EtobicokeNorthwest':'Etobicoke Northwest',\n",
    "    'East YorkEast Toronto':'East York/East Toronto',\n",
    "    'MississaugaCanada Post Gateway Processing Centre':'Mississauga'})\n",
    "df.Borough.unique()"
   ]
  },
  {
   "source": [
    "### Recode column `Neighborhood`"
   ],
   "cell_type": "markdown",
   "metadata": {}
  },
  {
   "cell_type": "code",
   "execution_count": 7,
   "metadata": {},
   "outputs": [
    {
     "output_type": "execute_result",
     "data": {
      "text/plain": [
       "array(['Malvern / Rouge)', 'Rouge Hill / Port Union / Highland Creek)',\n",
       "       'Guildwood / Morningside / West Hill)', 'Woburn)', 'Cedarbrae)',\n",
       "       'Scarborough Village)',\n",
       "       'Kennedy Park / Ionview / East Birchmount Park)',\n",
       "       'Golden Mile / Clairlea / Oakridge)',\n",
       "       'Cliffside / Cliffcrest / Scarborough Village West)',\n",
       "       'Birch Cliff / Cliffside West)',\n",
       "       'Dorset Park / Wexford Heights / Scarborough Town Centre)',\n",
       "       'Wexford / Maryvale)', 'Agincourt)',\n",
       "       \"Clarks Corners / Tam O'Shanter / Sullivan)\",\n",
       "       \"Milliken / Agincourt North / Steeles East / L'Amoreaux East)\",\n",
       "       \"Steeles West / L'Amoreaux West)\", 'Upper Rouge)',\n",
       "       'Hillcrest Village)', 'Fairview / Henry Farm / Oriole)',\n",
       "       'Bayview Village)', 'York Mills / Silver Hills)',\n",
       "       'Willowdale / Newtonbrook)', 'Willowdale)South',\n",
       "       'York Mills West)', 'Willowdale)West', 'Parkwoods)',\n",
       "       'Don Mills)North', 'Don Mills)South(Flemingdon Park)',\n",
       "       'Bathurst Manor / Wilson Heights / Downsview North)',\n",
       "       'Northwood Park / York University)',\n",
       "       'Downsview)East (CFB Toronto)', 'Downsview)West',\n",
       "       'Downsview)Central', 'Downsview)Northwest', 'Victoria Village)',\n",
       "       'Parkview Hill / Woodbine Gardens)', 'Woodbine Heights)',\n",
       "       'The Beaches)', 'Leaside)', 'Thorncliffe Park)',\n",
       "       'The Danforth East)', 'The Danforth West / Riverdale)',\n",
       "       'India Bazaar / The Beaches West)', 'Studio District)',\n",
       "       'Lawrence Park)', 'Davisville North)', 'North Toronto West)',\n",
       "       'Davisville)', 'Moore Park / Summerhill East)',\n",
       "       'Summerhill West / Rathnelly / South Hill / Forest Hill SE / Deer Park)',\n",
       "       'Rosedale)', 'St. James Town / Cabbagetown)',\n",
       "       'Church and Wellesley)', 'Regent Park / Harbourfront)',\n",
       "       'Garden District, Ryerson)', 'St. James Town)', 'Berczy Park)',\n",
       "       'Central Bay Street)', 'Richmond / Adelaide / King)',\n",
       "       'Harbourfront East / Union Station / Toronto Islands)',\n",
       "       'Toronto Dominion Centre / Design Exchange)',\n",
       "       'Commerce Court / Victoria Hotel)',\n",
       "       'Bedford Park / Lawrence Manor East)', 'Roselawn)',\n",
       "       'Forest Hill North & West)',\n",
       "       'The Annex / North Midtown / Yorkville)',\n",
       "       'University of Toronto / Harbord)',\n",
       "       'Kensington Market / Chinatown / Grange Park)',\n",
       "       'CN Tower / King and Spadina / Railway Lands / Harbourfront West / Bathurst Quay / South Niagara / Island airport)',\n",
       "       'Enclave of M5E)', 'First Canadian Place / Underground city)',\n",
       "       'Lawrence Manor / Lawrence Heights)', 'Glencairn)',\n",
       "       'Humewood-Cedarvale)', 'Caledonia-Fairbanks)', 'Christie)',\n",
       "       'Dufferin / Dovercourt Village)', 'Little Portugal / Trinity)',\n",
       "       'Brockton / Parkdale Village / Exhibition Place)',\n",
       "       'North Park / Maple Leaf Park / Upwood Park)',\n",
       "       'Del Ray / Mount Dennis / Keelsdale and Silverthorn)',\n",
       "       'Runnymede / The Junction North)',\n",
       "       'High Park / The Junction South)', 'Parkdale / Roncesvalles)',\n",
       "       'Runnymede / Swansea)', 'Ontario Provincial Government)',\n",
       "       'Enclave of L4W)', 'Enclave of M4L)',\n",
       "       'New Toronto / Mimico South / Humber Bay Shores)',\n",
       "       'Alderwood / Long Branch)',\n",
       "       'The Kingsway / Montgomery Road / Old Mill North)',\n",
       "       \"Old Mill South / King's Mill Park / Sunnylea / Humber Bay / Mimico NE / The Queensway East / Royal York South East / Kingsway Park South East)\",\n",
       "       'Mimico NW / The Queensway West / South of Bloor / Kingsway Park South West / Royal York South West)',\n",
       "       'Islington Avenue)',\n",
       "       'West Deane Park / Princess Gardens / Martin Grove / Islington / Cloverdale)',\n",
       "       'Eringate / Bloordale Gardens / Old Burnhamthorpe / Markland Wood)',\n",
       "       'Humber Summit)', 'Humberlea / Emery)', 'Weston)', 'Westmount)',\n",
       "       'Kingsview Village / St. Phillips / Martin Grove Gardens / Richview Gardens)',\n",
       "       'South Steeles / Silverstone / Humbergate / Jamestown / Mount Olive / Beaumond Heights / Thistletown / Albion Gardens)',\n",
       "       'Clairville / Humberwood / Woodbine Downs / West Humber / Kipling Heights / Rexdale / Elms / Tandridge / Old Rexdale)'],\n",
       "      dtype=object)"
      ]
     },
     "metadata": {},
     "execution_count": 7
    }
   ],
   "source": [
    "df.Neighborhood.unique()"
   ]
  },
  {
   "cell_type": "code",
   "execution_count": 8,
   "metadata": {},
   "outputs": [
    {
     "output_type": "execute_result",
     "data": {
      "text/plain": [
       "array(['Malvern, Rouge', 'Rouge Hill, Port Union, Highland Creek',\n",
       "       'Guildwood, Morningside, West Hill', 'Woburn', 'Cedarbrae',\n",
       "       'Scarborough Village',\n",
       "       'Kennedy Park, Ionview, East Birchmount Park',\n",
       "       'Golden Mile, Clairlea, Oakridge',\n",
       "       'Cliffside, Cliffcrest, Scarborough Village West',\n",
       "       'Birch Cliff, Cliffside West',\n",
       "       'Dorset Park, Wexford Heights, Scarborough Town Centre',\n",
       "       'Wexford, Maryvale', 'Agincourt',\n",
       "       \"Clarks Corners, Tam O'Shanter, Sullivan\",\n",
       "       \"Milliken, Agincourt North, Steeles East, L'Amoreaux East\",\n",
       "       \"Steeles West, L'Amoreaux West\", 'Upper Rouge',\n",
       "       'Hillcrest Village', 'Fairview, Henry Farm, Oriole',\n",
       "       'Bayview Village', 'York Mills, Silver Hills',\n",
       "       'Willowdale, Newtonbrook', 'Willowdale South', 'York Mills West',\n",
       "       'Willowdale West', 'Parkwoods', 'Don Mills North',\n",
       "       'Don Mills South, Flemingdon Park',\n",
       "       'Bathurst Manor, Wilson Heights, Downsview North',\n",
       "       'Northwood Park, York University', 'Downsview East , CFB Toronto',\n",
       "       'Downsview West', 'Downsview Central', 'Downsview Northwest',\n",
       "       'Victoria Village', 'Parkview Hill, Woodbine Gardens',\n",
       "       'Woodbine Heights', 'The Beaches', 'Leaside', 'Thorncliffe Park',\n",
       "       'The Danforth East', 'The Danforth West, Riverdale',\n",
       "       'India Bazaar, The Beaches West', 'Studio District',\n",
       "       'Lawrence Park', 'Davisville North', 'North Toronto West',\n",
       "       'Davisville', 'Moore Park, Summerhill East',\n",
       "       'Summerhill West, Rathnelly, South Hill, Forest Hill SE, Deer Park',\n",
       "       'Rosedale', 'St. James Town, Cabbagetown', 'Church and Wellesley',\n",
       "       'Regent Park, Harbourfront', 'Garden District, Ryerson',\n",
       "       'St. James Town', 'Berczy Park', 'Central Bay Street',\n",
       "       'Richmond, Adelaide, King',\n",
       "       'Harbourfront East, Union Station, Toronto Islands',\n",
       "       'Toronto Dominion Centre, Design Exchange',\n",
       "       'Commerce Court, Victoria Hotel',\n",
       "       'Bedford Park, Lawrence Manor East', 'Roselawn',\n",
       "       'Forest Hill North & West', 'The Annex, North Midtown, Yorkville',\n",
       "       'University of Toronto, Harbord',\n",
       "       'Kensington Market, Chinatown, Grange Park',\n",
       "       'CN Tower, King and Spadina, Railway Lands, Harbourfront West, Bathurst Quay, South Niagara, Island airport',\n",
       "       'Enclave of M5E', 'First Canadian Place, Underground city',\n",
       "       'Lawrence Manor, Lawrence Heights', 'Glencairn',\n",
       "       'Humewood-Cedarvale', 'Caledonia-Fairbanks', 'Christie',\n",
       "       'Dufferin, Dovercourt Village', 'Little Portugal, Trinity',\n",
       "       'Brockton, Parkdale Village, Exhibition Place',\n",
       "       'North Park, Maple Leaf Park, Upwood Park',\n",
       "       'Del Ray, Mount Dennis, Keelsdale and Silverthorn',\n",
       "       'Runnymede, The Junction North', 'High Park, The Junction South',\n",
       "       'Parkdale, Roncesvalles', 'Runnymede, Swansea',\n",
       "       'Ontario Provincial Government', 'Enclave of L4W',\n",
       "       'Enclave of M4L', 'New Toronto, Mimico South, Humber Bay Shores',\n",
       "       'Alderwood, Long Branch',\n",
       "       'The Kingsway, Montgomery Road, Old Mill North',\n",
       "       \"Old Mill South, King's Mill Park, Sunnylea, Humber Bay, Mimico NE, The Queensway East, Royal York South East, Kingsway Park South East\",\n",
       "       'Mimico NW, The Queensway West, South of Bloor, Kingsway Park South West, Royal York South West',\n",
       "       'Islington Avenue',\n",
       "       'West Deane Park, Princess Gardens, Martin Grove, Islington, Cloverdale',\n",
       "       'Eringate, Bloordale Gardens, Old Burnhamthorpe, Markland Wood',\n",
       "       'Humber Summit', 'Humberlea, Emery', 'Weston', 'Westmount',\n",
       "       'Kingsview Village, St. Phillips, Martin Grove Gardens, Richview Gardens',\n",
       "       'South Steeles, Silverstone, Humbergate, Jamestown, Mount Olive, Beaumond Heights, Thistletown, Albion Gardens',\n",
       "       'Clairville, Humberwood, Woodbine Downs, West Humber, Kipling Heights, Rexdale, Elms, Tandridge, Old Rexdale'],\n",
       "      dtype=object)"
      ]
     },
     "metadata": {},
     "execution_count": 8
    }
   ],
   "source": [
    "df['Neighborhood']= df['Neighborhood'].str.replace(' /',',').str.replace(')',' ')\n",
    "df['Neighborhood']= df['Neighborhood'].str.replace('(', ', ').str.strip(' ')\n",
    "df.Neighborhood.unique()"
   ]
  },
  {
   "source": [
    "### Final result of data cleansing process:"
   ],
   "cell_type": "markdown",
   "metadata": {}
  },
  {
   "cell_type": "code",
   "execution_count": 9,
   "metadata": {},
   "outputs": [
    {
     "output_type": "stream",
     "name": "stdout",
     "text": [
      "First few rows of the DataFrame df:\n  PostalCode      Borough                            Neighborhood\n0        M1B  Scarborough                          Malvern, Rouge\n1        M1C  Scarborough  Rouge Hill, Port Union, Highland Creek\n2        M1E  Scarborough       Guildwood, Morningside, West Hill\n3        M1G  Scarborough                                  Woburn\n4        M1H  Scarborough                               Cedarbrae\n"
     ]
    }
   ],
   "source": [
    "print('First few rows of the DataFrame df:')\n",
    "print(df.head())"
   ]
  },
  {
   "cell_type": "code",
   "execution_count": 10,
   "metadata": {},
   "outputs": [
    {
     "output_type": "stream",
     "name": "stdout",
     "text": [
      "Shape of df: (103, 3)\n"
     ]
    }
   ],
   "source": [
    "print(f'Shape of df: {df.shape}')"
   ]
  }
 ]
}